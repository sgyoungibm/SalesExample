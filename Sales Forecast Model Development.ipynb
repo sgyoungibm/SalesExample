{
    "nbformat_minor": 2, 
    "cells": [
        {
            "source": "### Importing Needed packages", 
            "cell_type": "markdown", 
            "metadata": {
                "button": false, 
                "new_sheet": false, 
                "run_control": {
                    "read_only": false
                }
            }
        }, 
        {
            "execution_count": 1, 
            "cell_type": "code", 
            "metadata": {
                "button": false, 
                "new_sheet": false, 
                "run_control": {
                    "read_only": false
                }
            }, 
            "outputs": [], 
            "source": "import matplotlib.pyplot as plt\nimport pandas as pd\nimport pylab as pl\nimport numpy as np\n%matplotlib inline"
        }, 
        {
            "source": "### Downloading Data\nTo download the data, we will use !wget to download it from IBM Object Storage.", 
            "cell_type": "markdown", 
            "metadata": {
                "button": false, 
                "new_sheet": false, 
                "run_control": {
                    "read_only": false
                }
            }
        }, 
        {
            "source": "## Reading the data in", 
            "cell_type": "markdown", 
            "metadata": {
                "button": false, 
                "new_sheet": false, 
                "run_control": {
                    "read_only": false
                }
            }
        }, 
        {
            "execution_count": null, 
            "cell_type": "code", 
            "metadata": {}, 
            "outputs": [], 
            "source": ""
        }, 
        {
            "execution_count": 19, 
            "cell_type": "code", 
            "metadata": {}, 
            "outputs": [
                {
                    "execution_count": 19, 
                    "metadata": {}, 
                    "data": {
                        "text/html": "<div>\n<style scoped>\n    .dataframe tbody tr th:only-of-type {\n        vertical-align: middle;\n    }\n\n    .dataframe tbody tr th {\n        vertical-align: top;\n    }\n\n    .dataframe thead th {\n        text-align: right;\n    }\n</style>\n<table border=\"1\" class=\"dataframe\">\n  <thead>\n    <tr style=\"text-align: right;\">\n      <th></th>\n      <th>ORDERNUMBER</th>\n      <th>QUANTITYORDERED</th>\n      <th>PRICEEACH</th>\n      <th>ORDERLINENUMBER</th>\n      <th>SALES</th>\n      <th>ORDERDATE</th>\n      <th>STATUS</th>\n      <th>QTR_ID</th>\n      <th>MONTH_ID</th>\n      <th>YEAR_ID</th>\n      <th>...</th>\n      <th>ADDRESSLINE1</th>\n      <th>ADDRESSLINE2</th>\n      <th>CITY</th>\n      <th>STATE</th>\n      <th>POSTALCODE</th>\n      <th>COUNTRY</th>\n      <th>TERRITORY</th>\n      <th>CONTACTLASTNAME</th>\n      <th>CONTACTFIRSTNAME</th>\n      <th>DEALSIZE</th>\n    </tr>\n  </thead>\n  <tbody>\n    <tr>\n      <th>0</th>\n      <td>10107</td>\n      <td>30</td>\n      <td>95.70</td>\n      <td>2</td>\n      <td>2871.00</td>\n      <td>2/24/03 0:00</td>\n      <td>Shipped</td>\n      <td>1</td>\n      <td>2</td>\n      <td>2003</td>\n      <td>...</td>\n      <td>897 Long Airport Avenue</td>\n      <td>NaN</td>\n      <td>NYC</td>\n      <td>NY</td>\n      <td>10022</td>\n      <td>USA</td>\n      <td>NaN</td>\n      <td>Yu</td>\n      <td>Kwai</td>\n      <td>Small</td>\n    </tr>\n    <tr>\n      <th>1</th>\n      <td>10121</td>\n      <td>34</td>\n      <td>81.35</td>\n      <td>5</td>\n      <td>2765.90</td>\n      <td>5/7/03 0:00</td>\n      <td>Shipped</td>\n      <td>2</td>\n      <td>5</td>\n      <td>2003</td>\n      <td>...</td>\n      <td>59 rue de l'Abbaye</td>\n      <td>NaN</td>\n      <td>Reims</td>\n      <td>NaN</td>\n      <td>51100</td>\n      <td>France</td>\n      <td>EMEA</td>\n      <td>Henriot</td>\n      <td>Paul</td>\n      <td>Small</td>\n    </tr>\n    <tr>\n      <th>2</th>\n      <td>10134</td>\n      <td>41</td>\n      <td>94.74</td>\n      <td>2</td>\n      <td>3884.34</td>\n      <td>7/1/03 0:00</td>\n      <td>Shipped</td>\n      <td>3</td>\n      <td>7</td>\n      <td>2003</td>\n      <td>...</td>\n      <td>27 rue du Colonel Pierre Avia</td>\n      <td>NaN</td>\n      <td>Paris</td>\n      <td>NaN</td>\n      <td>75508</td>\n      <td>France</td>\n      <td>EMEA</td>\n      <td>Da Cunha</td>\n      <td>Daniel</td>\n      <td>Medium</td>\n    </tr>\n    <tr>\n      <th>3</th>\n      <td>10145</td>\n      <td>45</td>\n      <td>83.26</td>\n      <td>6</td>\n      <td>3746.70</td>\n      <td>8/25/03 0:00</td>\n      <td>Shipped</td>\n      <td>3</td>\n      <td>8</td>\n      <td>2003</td>\n      <td>...</td>\n      <td>78934 Hillside Dr.</td>\n      <td>NaN</td>\n      <td>Pasadena</td>\n      <td>CA</td>\n      <td>90003</td>\n      <td>USA</td>\n      <td>NaN</td>\n      <td>Young</td>\n      <td>Julie</td>\n      <td>Medium</td>\n    </tr>\n    <tr>\n      <th>4</th>\n      <td>10159</td>\n      <td>49</td>\n      <td>100.00</td>\n      <td>14</td>\n      <td>5205.27</td>\n      <td>10/10/03 0:00</td>\n      <td>Shipped</td>\n      <td>4</td>\n      <td>10</td>\n      <td>2003</td>\n      <td>...</td>\n      <td>7734 Strong St.</td>\n      <td>NaN</td>\n      <td>San Francisco</td>\n      <td>CA</td>\n      <td>NaN</td>\n      <td>USA</td>\n      <td>NaN</td>\n      <td>Brown</td>\n      <td>Julie</td>\n      <td>Medium</td>\n    </tr>\n  </tbody>\n</table>\n<p>5 rows \u00d7 25 columns</p>\n</div>", 
                        "text/plain": "   ORDERNUMBER  QUANTITYORDERED  PRICEEACH  ORDERLINENUMBER    SALES  \\\n0        10107               30      95.70                2  2871.00   \n1        10121               34      81.35                5  2765.90   \n2        10134               41      94.74                2  3884.34   \n3        10145               45      83.26                6  3746.70   \n4        10159               49     100.00               14  5205.27   \n\n       ORDERDATE   STATUS  QTR_ID  MONTH_ID  YEAR_ID  ...  \\\n0   2/24/03 0:00  Shipped       1         2     2003  ...   \n1    5/7/03 0:00  Shipped       2         5     2003  ...   \n2    7/1/03 0:00  Shipped       3         7     2003  ...   \n3   8/25/03 0:00  Shipped       3         8     2003  ...   \n4  10/10/03 0:00  Shipped       4        10     2003  ...   \n\n                    ADDRESSLINE1  ADDRESSLINE2           CITY STATE  \\\n0        897 Long Airport Avenue           NaN            NYC    NY   \n1             59 rue de l'Abbaye           NaN          Reims   NaN   \n2  27 rue du Colonel Pierre Avia           NaN          Paris   NaN   \n3             78934 Hillside Dr.           NaN       Pasadena    CA   \n4                7734 Strong St.           NaN  San Francisco    CA   \n\n  POSTALCODE COUNTRY TERRITORY CONTACTLASTNAME CONTACTFIRSTNAME DEALSIZE  \n0      10022     USA       NaN              Yu             Kwai    Small  \n1      51100  France      EMEA         Henriot             Paul    Small  \n2      75508  France      EMEA        Da Cunha           Daniel   Medium  \n3      90003     USA       NaN           Young            Julie   Medium  \n4        NaN     USA       NaN           Brown            Julie   Medium  \n\n[5 rows x 25 columns]"
                    }, 
                    "output_type": "execute_result"
                }
            ], 
            "source": "# The code was removed by Watson Studio for sharing."
        }, 
        {
            "execution_count": 22, 
            "cell_type": "code", 
            "metadata": {
                "button": false, 
                "new_sheet": false, 
                "run_control": {
                    "read_only": false
                }
            }, 
            "outputs": [], 
            "source": "df = pd.read_csv(\"FuelConsumption.csv\")\n\n# take a look at the dataset\n#df.head()\n\n"
        }, 
        {
            "source": "### Data Exploration\nLets first have a descriptive exploration on our data.", 
            "cell_type": "markdown", 
            "metadata": {
                "button": false, 
                "new_sheet": false, 
                "run_control": {
                    "read_only": false
                }
            }
        }, 
        {
            "execution_count": 24, 
            "cell_type": "code", 
            "metadata": {
                "button": false, 
                "new_sheet": false, 
                "run_control": {
                    "read_only": false
                }
            }, 
            "outputs": [
                {
                    "execution_count": 24, 
                    "metadata": {}, 
                    "data": {
                        "text/html": "<div>\n<style scoped>\n    .dataframe tbody tr th:only-of-type {\n        vertical-align: middle;\n    }\n\n    .dataframe tbody tr th {\n        vertical-align: top;\n    }\n\n    .dataframe thead th {\n        text-align: right;\n    }\n</style>\n<table border=\"1\" class=\"dataframe\">\n  <thead>\n    <tr style=\"text-align: right;\">\n      <th></th>\n      <th>ORDERNUMBER</th>\n      <th>QUANTITYORDERED</th>\n      <th>PRICEEACH</th>\n      <th>ORDERLINENUMBER</th>\n      <th>SALES</th>\n      <th>QTR_ID</th>\n      <th>MONTH_ID</th>\n      <th>YEAR_ID</th>\n      <th>MSRP</th>\n    </tr>\n  </thead>\n  <tbody>\n    <tr>\n      <th>count</th>\n      <td>2823.000000</td>\n      <td>2823.000000</td>\n      <td>2823.000000</td>\n      <td>2823.000000</td>\n      <td>2823.000000</td>\n      <td>2823.000000</td>\n      <td>2823.000000</td>\n      <td>2823.00000</td>\n      <td>2823.000000</td>\n    </tr>\n    <tr>\n      <th>mean</th>\n      <td>10258.725115</td>\n      <td>35.092809</td>\n      <td>83.658544</td>\n      <td>6.466171</td>\n      <td>3553.889072</td>\n      <td>2.717676</td>\n      <td>7.092455</td>\n      <td>2003.81509</td>\n      <td>100.715551</td>\n    </tr>\n    <tr>\n      <th>std</th>\n      <td>92.085478</td>\n      <td>9.741443</td>\n      <td>20.174277</td>\n      <td>4.225841</td>\n      <td>1841.865106</td>\n      <td>1.203878</td>\n      <td>3.656633</td>\n      <td>0.69967</td>\n      <td>40.187912</td>\n    </tr>\n    <tr>\n      <th>min</th>\n      <td>10100.000000</td>\n      <td>6.000000</td>\n      <td>26.880000</td>\n      <td>1.000000</td>\n      <td>482.130000</td>\n      <td>1.000000</td>\n      <td>1.000000</td>\n      <td>2003.00000</td>\n      <td>33.000000</td>\n    </tr>\n    <tr>\n      <th>25%</th>\n      <td>10180.000000</td>\n      <td>27.000000</td>\n      <td>68.860000</td>\n      <td>3.000000</td>\n      <td>2203.430000</td>\n      <td>2.000000</td>\n      <td>4.000000</td>\n      <td>2003.00000</td>\n      <td>68.000000</td>\n    </tr>\n    <tr>\n      <th>50%</th>\n      <td>10262.000000</td>\n      <td>35.000000</td>\n      <td>95.700000</td>\n      <td>6.000000</td>\n      <td>3184.800000</td>\n      <td>3.000000</td>\n      <td>8.000000</td>\n      <td>2004.00000</td>\n      <td>99.000000</td>\n    </tr>\n    <tr>\n      <th>75%</th>\n      <td>10333.500000</td>\n      <td>43.000000</td>\n      <td>100.000000</td>\n      <td>9.000000</td>\n      <td>4508.000000</td>\n      <td>4.000000</td>\n      <td>11.000000</td>\n      <td>2004.00000</td>\n      <td>124.000000</td>\n    </tr>\n    <tr>\n      <th>max</th>\n      <td>10425.000000</td>\n      <td>97.000000</td>\n      <td>100.000000</td>\n      <td>18.000000</td>\n      <td>14082.800000</td>\n      <td>4.000000</td>\n      <td>12.000000</td>\n      <td>2005.00000</td>\n      <td>214.000000</td>\n    </tr>\n  </tbody>\n</table>\n</div>", 
                        "text/plain": "        ORDERNUMBER  QUANTITYORDERED    PRICEEACH  ORDERLINENUMBER  \\\ncount   2823.000000      2823.000000  2823.000000      2823.000000   \nmean   10258.725115        35.092809    83.658544         6.466171   \nstd       92.085478         9.741443    20.174277         4.225841   \nmin    10100.000000         6.000000    26.880000         1.000000   \n25%    10180.000000        27.000000    68.860000         3.000000   \n50%    10262.000000        35.000000    95.700000         6.000000   \n75%    10333.500000        43.000000   100.000000         9.000000   \nmax    10425.000000        97.000000   100.000000        18.000000   \n\n              SALES       QTR_ID     MONTH_ID     YEAR_ID         MSRP  \ncount   2823.000000  2823.000000  2823.000000  2823.00000  2823.000000  \nmean    3553.889072     2.717676     7.092455  2003.81509   100.715551  \nstd     1841.865106     1.203878     3.656633     0.69967    40.187912  \nmin      482.130000     1.000000     1.000000  2003.00000    33.000000  \n25%     2203.430000     2.000000     4.000000  2003.00000    68.000000  \n50%     3184.800000     3.000000     8.000000  2004.00000    99.000000  \n75%     4508.000000     4.000000    11.000000  2004.00000   124.000000  \nmax    14082.800000     4.000000    12.000000  2005.00000   214.000000  "
                    }, 
                    "output_type": "execute_result"
                }
            ], 
            "source": "# summarize the data\ndf_sales.describe()"
        }, 
        {
            "source": "Lets select some features to explore more.", 
            "cell_type": "markdown", 
            "metadata": {}
        }, 
        {
            "execution_count": 56, 
            "cell_type": "code", 
            "metadata": {}, 
            "outputs": [
                {
                    "execution_count": 56, 
                    "metadata": {}, 
                    "data": {
                        "text/plain": "ORDERNUMBER           int64\nQUANTITYORDERED       int64\nPRICEEACH           float64\nORDERLINENUMBER       int64\nSALES               float64\nORDERDATE            object\nSTATUS               object\nQTR_ID                int64\nMONTH_ID              int64\nYEAR_ID               int64\nPRODUCTLINE          object\nMSRP                  int64\nPRODUCTCODE          object\nCUSTOMERNAME         object\nPHONE                object\nADDRESSLINE1         object\nADDRESSLINE2         object\nCITY                 object\nSTATE                object\nPOSTALCODE           object\nCOUNTRY              object\nTERRITORY            object\nCONTACTLASTNAME      object\nCONTACTFIRSTNAME     object\nDEALSIZE             object\ndtype: object"
                    }, 
                    "output_type": "execute_result"
                }
            ], 
            "source": "df_sales.dtypes"
        }, 
        {
            "execution_count": 57, 
            "cell_type": "code", 
            "metadata": {}, 
            "outputs": [], 
            "source": "df_sales['ORDERDATE'] = df_sales['ORDERDATE'].astype('datetime64[ns]')"
        }, 
        {
            "execution_count": 58, 
            "cell_type": "code", 
            "metadata": {
                "button": false, 
                "new_sheet": false, 
                "run_control": {
                    "read_only": false
                }
            }, 
            "outputs": [
                {
                    "execution_count": 58, 
                    "metadata": {}, 
                    "data": {
                        "text/html": "<div>\n<style scoped>\n    .dataframe tbody tr th:only-of-type {\n        vertical-align: middle;\n    }\n\n    .dataframe tbody tr th {\n        vertical-align: top;\n    }\n\n    .dataframe thead th {\n        text-align: right;\n    }\n</style>\n<table border=\"1\" class=\"dataframe\">\n  <thead>\n    <tr style=\"text-align: right;\">\n      <th></th>\n      <th>SALES</th>\n      <th>PRICEEACH</th>\n      <th>QUANTITYORDERED</th>\n      <th>MSRP</th>\n      <th>MONTH_ID</th>\n      <th>ORDERDATE</th>\n    </tr>\n  </thead>\n  <tbody>\n    <tr>\n      <th>0</th>\n      <td>2871.00</td>\n      <td>95.70</td>\n      <td>30</td>\n      <td>95</td>\n      <td>2</td>\n      <td>2003-02-24</td>\n    </tr>\n    <tr>\n      <th>1</th>\n      <td>2765.90</td>\n      <td>81.35</td>\n      <td>34</td>\n      <td>95</td>\n      <td>5</td>\n      <td>2003-05-07</td>\n    </tr>\n    <tr>\n      <th>2</th>\n      <td>3884.34</td>\n      <td>94.74</td>\n      <td>41</td>\n      <td>95</td>\n      <td>7</td>\n      <td>2003-07-01</td>\n    </tr>\n    <tr>\n      <th>3</th>\n      <td>3746.70</td>\n      <td>83.26</td>\n      <td>45</td>\n      <td>95</td>\n      <td>8</td>\n      <td>2003-08-25</td>\n    </tr>\n    <tr>\n      <th>4</th>\n      <td>5205.27</td>\n      <td>100.00</td>\n      <td>49</td>\n      <td>95</td>\n      <td>10</td>\n      <td>2003-10-10</td>\n    </tr>\n    <tr>\n      <th>5</th>\n      <td>3479.76</td>\n      <td>96.66</td>\n      <td>36</td>\n      <td>95</td>\n      <td>10</td>\n      <td>2003-10-28</td>\n    </tr>\n    <tr>\n      <th>6</th>\n      <td>2497.77</td>\n      <td>86.13</td>\n      <td>29</td>\n      <td>95</td>\n      <td>11</td>\n      <td>2003-11-11</td>\n    </tr>\n    <tr>\n      <th>7</th>\n      <td>5512.32</td>\n      <td>100.00</td>\n      <td>48</td>\n      <td>95</td>\n      <td>11</td>\n      <td>2003-11-18</td>\n    </tr>\n    <tr>\n      <th>8</th>\n      <td>2168.54</td>\n      <td>98.57</td>\n      <td>22</td>\n      <td>95</td>\n      <td>12</td>\n      <td>2003-12-01</td>\n    </tr>\n  </tbody>\n</table>\n</div>", 
                        "text/plain": "     SALES  PRICEEACH  QUANTITYORDERED  MSRP  MONTH_ID  ORDERDATE\n0  2871.00      95.70               30    95         2 2003-02-24\n1  2765.90      81.35               34    95         5 2003-05-07\n2  3884.34      94.74               41    95         7 2003-07-01\n3  3746.70      83.26               45    95         8 2003-08-25\n4  5205.27     100.00               49    95        10 2003-10-10\n5  3479.76      96.66               36    95        10 2003-10-28\n6  2497.77      86.13               29    95        11 2003-11-11\n7  5512.32     100.00               48    95        11 2003-11-18\n8  2168.54      98.57               22    95        12 2003-12-01"
                    }, 
                    "output_type": "execute_result"
                }
            ], 
            "source": "cdf = df_sales[['SALES','PRICEEACH','QUANTITYORDERED', 'MSRP', 'MONTH_ID', 'ORDERDATE']]\ncdf.head(9)"
        }, 
        {
            "source": "we can plot each of these fearues:", 
            "cell_type": "markdown", 
            "metadata": {}
        }, 
        {
            "execution_count": 70, 
            "cell_type": "code", 
            "metadata": {}, 
            "outputs": [
                {
                    "execution_count": 70, 
                    "metadata": {}, 
                    "data": {
                        "text/plain": "SALES               float64\nORDERDATE    datetime64[ns]\ndtype: object"
                    }, 
                    "output_type": "execute_result"
                }
            ], 
            "source": "cdf2 = df_sales[['SALES','ORDERDATE']]\ncdf2.dtypes"
        }, 
        {
            "execution_count": 74, 
            "cell_type": "code", 
            "metadata": {}, 
            "outputs": [], 
            "source": "#cdf2 = cdf\ncdf3 = cdf2.groupby('ORDERDATE').sum()\n#cdf2.resample('M').mean()"
        }, 
        {
            "execution_count": 59, 
            "cell_type": "code", 
            "metadata": {
                "button": false, 
                "new_sheet": false, 
                "run_control": {
                    "read_only": false
                }
            }, 
            "outputs": [
                {
                    "output_type": "display_data", 
                    "data": {
                        "image/png": "[encoded data removed]", 
                        "text/plain": "<Figure size 432x288 with 4 Axes>"
                    }, 
                    "metadata": {
                        "needs_background": "light"
                    }
                }
            ], 
            "source": "viz = cdf[['SALES','PRICEEACH','QUANTITYORDERED', 'MSRP']]\nviz.hist()\nplt.show()"
        }, 
        {
            "source": "Now, lets plot each of these features vs the Emission, to see how linear is their relation:", 
            "cell_type": "markdown", 
            "metadata": {}
        }, 
        {
            "execution_count": 80, 
            "cell_type": "code", 
            "metadata": {}, 
            "outputs": [
                {
                    "execution_count": 80, 
                    "metadata": {}, 
                    "data": {
                        "text/html": "<div>\n<style scoped>\n    .dataframe tbody tr th:only-of-type {\n        vertical-align: middle;\n    }\n\n    .dataframe tbody tr th {\n        vertical-align: top;\n    }\n\n    .dataframe thead th {\n        text-align: right;\n    }\n</style>\n<table border=\"1\" class=\"dataframe\">\n  <thead>\n    <tr style=\"text-align: right;\">\n      <th></th>\n      <th>ORDERDATE</th>\n      <th>SALES</th>\n    </tr>\n  </thead>\n  <tbody>\n    <tr>\n      <th>0</th>\n      <td>2003-01-06</td>\n      <td>12133.25</td>\n    </tr>\n    <tr>\n      <th>1</th>\n      <td>2003-01-09</td>\n      <td>11432.34</td>\n    </tr>\n    <tr>\n      <th>2</th>\n      <td>2003-01-10</td>\n      <td>6864.05</td>\n    </tr>\n    <tr>\n      <th>3</th>\n      <td>2003-01-29</td>\n      <td>54702.00</td>\n    </tr>\n    <tr>\n      <th>4</th>\n      <td>2003-01-31</td>\n      <td>44621.96</td>\n    </tr>\n  </tbody>\n</table>\n</div>", 
                        "text/plain": "   ORDERDATE     SALES\n0 2003-01-06  12133.25\n1 2003-01-09  11432.34\n2 2003-01-10   6864.05\n3 2003-01-29  54702.00\n4 2003-01-31  44621.96"
                    }, 
                    "output_type": "execute_result"
                }
            ], 
            "source": "cdf3 = cdf3.reset_index()\ncdf3.head()"
        }, 
        {
            "execution_count": 84, 
            "cell_type": "code", 
            "metadata": {}, 
            "outputs": [
                {
                    "execution_count": 84, 
                    "metadata": {}, 
                    "data": {
                        "text/plain": "ORDERDATE    datetime64[ns]\nSALES               float64\ndtype: object"
                    }, 
                    "output_type": "execute_result"
                }
            ], 
            "source": "cdf3.dtypes"
        }, 
        {
            "execution_count": 88, 
            "cell_type": "code", 
            "metadata": {
                "button": false, 
                "new_sheet": false, 
                "run_control": {
                    "read_only": false
                }
            }, 
            "outputs": [
                {
                    "output_type": "display_data", 
                    "data": {
                        "image/png": "[encoded data removed]", 
                        "text/plain": "<Figure size 432x288 with 1 Axes>"
                    }, 
                    "metadata": {
                        "needs_background": "light"
                    }
                }
            ], 
            "source": "\n\nplt.scatter(cdf3.ORDERDATE, cdf3.SALES,  color='blue')\nplt.xlabel(\"Date\")\nplt.ylabel(\"Sales\")\nplt.show()\n\n#plt.scatter(cdf.FUELCONSUMPTION_COMB, cdf.CO2EMISSIONS,  color='blue')\n#plt.xlabel(\"FUELCONSUMPTION_COMB\")\n#plt.ylabel(\"Emission\")\n#plt.show()"
        }, 
        {
            "execution_count": 106, 
            "cell_type": "code", 
            "metadata": {
                "scrolled": true, 
                "button": false, 
                "new_sheet": false, 
                "run_control": {
                    "read_only": false
                }
            }, 
            "outputs": [
                {
                    "execution_count": 106, 
                    "metadata": {}, 
                    "data": {
                        "text/html": "<div>\n<style scoped>\n    .dataframe tbody tr th:only-of-type {\n        vertical-align: middle;\n    }\n\n    .dataframe tbody tr th {\n        vertical-align: top;\n    }\n\n    .dataframe thead th {\n        text-align: right;\n    }\n</style>\n<table border=\"1\" class=\"dataframe\">\n  <thead>\n    <tr style=\"text-align: right;\">\n      <th></th>\n      <th>YEAR_ID</th>\n      <th>SALES</th>\n    </tr>\n  </thead>\n  <tbody>\n    <tr>\n      <th>0</th>\n      <td>2003</td>\n      <td>3516979.54</td>\n    </tr>\n    <tr>\n      <th>1</th>\n      <td>2004</td>\n      <td>4724162.60</td>\n    </tr>\n    <tr>\n      <th>2</th>\n      <td>2005</td>\n      <td>1791486.71</td>\n    </tr>\n  </tbody>\n</table>\n</div>", 
                        "text/plain": "   YEAR_ID       SALES\n0     2003  3516979.54\n1     2004  4724162.60\n2     2005  1791486.71"
                    }, 
                    "output_type": "execute_result"
                }
            ], 
            "source": "cdf4 = df_sales[['SALES','YEAR_ID']]\n#cdf4['YEAR_ID'] = cdf4['YEAR_ID'].astype('datetime64[ns]')\n#cdf4.dtypes\ncdf4 = cdf4.groupby('YEAR_ID').sum()\ncdf4 = cdf4.reset_index()\ncdf4.head()\n"
        }, 
        {
            "execution_count": 107, 
            "cell_type": "code", 
            "metadata": {}, 
            "outputs": [
                {
                    "output_type": "display_data", 
                    "data": {
                        "image/png": "[encoded data removed]", 
                        "text/plain": "<Figure size 432x288 with 1 Axes>"
                    }, 
                    "metadata": {
                        "needs_background": "light"
                    }
                }
            ], 
            "source": "plt.scatter(cdf4.YEAR_ID, cdf4.SALES,  color='blue')\nplt.xlabel(\"Date\")\nplt.ylabel(\"Sales\")\nplt.show()\n\n#plt.scatter(cdf.ENGINESIZE, cdf.CO2EMISSIONS,  color='blue')\n#plt.xlabel(\"Engine size\")\n#plt.ylabel(\"Emission\")\n#plt.show()"
        }, 
        {
            "execution_count": 108, 
            "cell_type": "code", 
            "metadata": {}, 
            "outputs": [
                {
                    "execution_count": 108, 
                    "metadata": {}, 
                    "data": {
                        "text/html": "<div>\n<style scoped>\n    .dataframe tbody tr th:only-of-type {\n        vertical-align: middle;\n    }\n\n    .dataframe tbody tr th {\n        vertical-align: top;\n    }\n\n    .dataframe thead th {\n        text-align: right;\n    }\n</style>\n<table border=\"1\" class=\"dataframe\">\n  <thead>\n    <tr style=\"text-align: right;\">\n      <th></th>\n      <th>ORDERDATE</th>\n      <th>SALES</th>\n    </tr>\n  </thead>\n  <tbody>\n    <tr>\n      <th>0</th>\n      <td>2003-01-06</td>\n      <td>12133.25</td>\n    </tr>\n    <tr>\n      <th>1</th>\n      <td>2003-01-09</td>\n      <td>11432.34</td>\n    </tr>\n    <tr>\n      <th>2</th>\n      <td>2003-01-10</td>\n      <td>6864.05</td>\n    </tr>\n    <tr>\n      <th>3</th>\n      <td>2003-01-29</td>\n      <td>54702.00</td>\n    </tr>\n    <tr>\n      <th>4</th>\n      <td>2003-01-31</td>\n      <td>44621.96</td>\n    </tr>\n  </tbody>\n</table>\n</div>", 
                        "text/plain": "   ORDERDATE     SALES\n0 2003-01-06  12133.25\n1 2003-01-09  11432.34\n2 2003-01-10   6864.05\n3 2003-01-29  54702.00\n4 2003-01-31  44621.96"
                    }, 
                    "output_type": "execute_result"
                }
            ], 
            "source": "cdf4 = df_sales[['SALES','ORDERDATE']]\n#cdf4['YEAR_ID'] = cdf4['YEAR_ID'].astype('datetime64[ns]')\n#cdf4.dtypes\ncdf4 = cdf4.groupby('ORDERDATE').sum()\ncdf4 = cdf4.reset_index()\ncdf4.head()"
        }, 
        {
            "execution_count": 112, 
            "cell_type": "code", 
            "metadata": {}, 
            "outputs": [
                {
                    "execution_count": 112, 
                    "metadata": {}, 
                    "data": {
                        "text/plain": "ORDERDATE    datetime64[ns]\nSALES               float64\ndtype: object"
                    }, 
                    "output_type": "execute_result"
                }
            ], 
            "source": "cdf4.dtypes"
        }, 
        {
            "execution_count": 115, 
            "cell_type": "code", 
            "metadata": {}, 
            "outputs": [
                {
                    "execution_count": 115, 
                    "metadata": {}, 
                    "data": {
                        "text/plain": "ORDERNUMBER                  int64\nQUANTITYORDERED              int64\nPRICEEACH                  float64\nORDERLINENUMBER              int64\nSALES                      float64\nORDERDATE           datetime64[ns]\nSTATUS                      object\nQTR_ID                       int64\nMONTH_ID                     int64\nYEAR_ID                      int64\nPRODUCTLINE                 object\nMSRP                         int64\nPRODUCTCODE                 object\nCUSTOMERNAME                object\nPHONE                       object\nADDRESSLINE1                object\nADDRESSLINE2                object\nCITY                        object\nSTATE                       object\nPOSTALCODE                  object\nCOUNTRY                     object\nTERRITORY                   object\nCONTACTLASTNAME             object\nCONTACTFIRSTNAME            object\nDEALSIZE                    object\ndtype: object"
                    }, 
                    "output_type": "execute_result"
                }
            ], 
            "source": "df_sales[['SALES','ORDERDATE']]\ndf_sales.dtypes"
        }, 
        {
            "execution_count": 133, 
            "cell_type": "code", 
            "metadata": {}, 
            "outputs": [
                {
                    "execution_count": 133, 
                    "metadata": {}, 
                    "data": {
                        "text/html": "<div>\n<style scoped>\n    .dataframe tbody tr th:only-of-type {\n        vertical-align: middle;\n    }\n\n    .dataframe tbody tr th {\n        vertical-align: top;\n    }\n\n    .dataframe thead th {\n        text-align: right;\n    }\n</style>\n<table border=\"1\" class=\"dataframe\">\n  <thead>\n    <tr style=\"text-align: right;\">\n      <th></th>\n      <th>index</th>\n      <th>ORDERDATEYEARMONTH</th>\n      <th>SALES</th>\n    </tr>\n  </thead>\n  <tbody>\n    <tr>\n      <th>0</th>\n      <td>0</td>\n      <td>2003-01</td>\n      <td>129753.60</td>\n    </tr>\n    <tr>\n      <th>1</th>\n      <td>1</td>\n      <td>2003-02</td>\n      <td>140836.19</td>\n    </tr>\n    <tr>\n      <th>2</th>\n      <td>2</td>\n      <td>2003-03</td>\n      <td>174504.90</td>\n    </tr>\n    <tr>\n      <th>3</th>\n      <td>3</td>\n      <td>2003-04</td>\n      <td>201609.55</td>\n    </tr>\n    <tr>\n      <th>4</th>\n      <td>4</td>\n      <td>2003-05</td>\n      <td>192673.11</td>\n    </tr>\n  </tbody>\n</table>\n</div>", 
                        "text/plain": "   index ORDERDATEYEARMONTH      SALES\n0      0            2003-01  129753.60\n1      1            2003-02  140836.19\n2      2            2003-03  174504.90\n3      3            2003-04  201609.55\n4      4            2003-05  192673.11"
                    }, 
                    "output_type": "execute_result"
                }
            ], 
            "source": "cdf5 = df_sales[['SALES','ORDERDATE']]\n#cdf4['YEAR_ID'] = cdf4['YEAR_ID'].astype('datetime64[ns]')\n#cdf4.dtypes\ncdf5 = cdf5.groupby('ORDERDATE').sum()\ncdf5 = cdf5.reset_index()\ncdf5['ORDERDATEYEARMONTH'] = pd.to_datetime(cdf5['ORDERDATE']).dt.to_period('M')\ncdf5 = cdf5.groupby('ORDERDATEYEARMONTH').sum()\ncdf5 = cdf5.reset_index()\ncdf5 = cdf5.reset_index()\ncdf5.head()"
        }, 
        {
            "execution_count": 131, 
            "cell_type": "code", 
            "metadata": {}, 
            "outputs": [
                {
                    "execution_count": 131, 
                    "metadata": {}, 
                    "data": {
                        "text/plain": "index                     int64\nORDERDATEYEARMONTH    period[M]\nSALES                   float64\ndtype: object"
                    }, 
                    "output_type": "execute_result"
                }
            ], 
            "source": "#cdf5['ORDERDATEYEARMONTH'] = cdf5['ORDERDATEYEARMONTH'].astype('datetime64[ns]')\ncdf5.dtypes"
        }, 
        {
            "execution_count": 132, 
            "cell_type": "code", 
            "metadata": {}, 
            "outputs": [
                {
                    "output_type": "display_data", 
                    "data": {
                        "image/png": "[encoded data removed]", 
                        "text/plain": "<Figure size 432x288 with 1 Axes>"
                    }, 
                    "metadata": {
                        "needs_background": "light"
                    }
                }
            ], 
            "source": "plt.scatter(cdf5.index, cdf5.SALES,  color='blue')\nplt.xlabel(\"Date\")\nplt.ylabel(\"Sales\")\nplt.show()"
        }, 
        {
            "source": "#### Creating train and test dataset\nTrain/Test Split involves splitting the dataset into training and testing sets respectively, which are mutually exclusive. After which, you train with the training set and test with the testing set. \nThis will provide a more accurate evaluation on out-of-sample accuracy because the testing dataset is not part of the dataset that have been used to train the data. It is more realistic for real world problems.\n\nThis means that we know the outcome of each data point in this dataset, making it great to test with! And since this data has not been used to train the model, the model has no knowledge of the outcome of these data points. So, in essence, it is truly an out-of-sample testing.\n\nLets split our dataset into train and test sets, 80% of the entire data for training, and the 20% for testing. We create a mask to select random rows using __np.random.rand()__ function: ", 
            "cell_type": "markdown", 
            "metadata": {
                "button": false, 
                "new_sheet": false, 
                "run_control": {
                    "read_only": false
                }
            }
        }, 
        {
            "execution_count": 152, 
            "cell_type": "code", 
            "metadata": {}, 
            "outputs": [
                {
                    "execution_count": 152, 
                    "metadata": {}, 
                    "data": {
                        "text/html": "<div>\n<style scoped>\n    .dataframe tbody tr th:only-of-type {\n        vertical-align: middle;\n    }\n\n    .dataframe tbody tr th {\n        vertical-align: top;\n    }\n\n    .dataframe thead th {\n        text-align: right;\n    }\n</style>\n<table border=\"1\" class=\"dataframe\">\n  <thead>\n    <tr style=\"text-align: right;\">\n      <th></th>\n      <th>index</th>\n      <th>ORDERDATEYEARMONTH</th>\n      <th>SALES</th>\n    </tr>\n  </thead>\n  <tbody>\n    <tr>\n      <th>0</th>\n      <td>0</td>\n      <td>2003-01</td>\n      <td>129753.60</td>\n    </tr>\n    <tr>\n      <th>1</th>\n      <td>1</td>\n      <td>2003-02</td>\n      <td>140836.19</td>\n    </tr>\n    <tr>\n      <th>2</th>\n      <td>2</td>\n      <td>2003-03</td>\n      <td>174504.90</td>\n    </tr>\n    <tr>\n      <th>3</th>\n      <td>3</td>\n      <td>2003-04</td>\n      <td>201609.55</td>\n    </tr>\n    <tr>\n      <th>4</th>\n      <td>4</td>\n      <td>2003-05</td>\n      <td>192673.11</td>\n    </tr>\n  </tbody>\n</table>\n</div>", 
                        "text/plain": "   index ORDERDATEYEARMONTH      SALES\n0      0            2003-01  129753.60\n1      1            2003-02  140836.19\n2      2            2003-03  174504.90\n3      3            2003-04  201609.55\n4      4            2003-05  192673.11"
                    }, 
                    "output_type": "execute_result"
                }
            ], 
            "source": "cdf5.head()"
        }, 
        {
            "execution_count": 140, 
            "cell_type": "code", 
            "metadata": {}, 
            "outputs": [], 
            "source": "cdf5\nmsk = np.random.rand(len(cdf5)) < 0.8\ntrain = cdf5[msk]\ntest = cdf5[~msk]"
        }, 
        {
            "source": "### Simple Regression Model\nLinear Regression fits a linear model with coefficients B = (B1, ..., Bn) to minimize the 'residual sum of squares' between the independent x in the dataset, and the dependent y by the linear approximation. ", 
            "cell_type": "markdown", 
            "metadata": {
                "button": false, 
                "new_sheet": false, 
                "run_control": {
                    "read_only": false
                }
            }
        }, 
        {
            "execution_count": 155, 
            "cell_type": "code", 
            "metadata": {}, 
            "outputs": [
                {
                    "execution_count": 155, 
                    "metadata": {}, 
                    "data": {
                        "text/html": "<div>\n<style scoped>\n    .dataframe tbody tr th:only-of-type {\n        vertical-align: middle;\n    }\n\n    .dataframe tbody tr th {\n        vertical-align: top;\n    }\n\n    .dataframe thead th {\n        text-align: right;\n    }\n</style>\n<table border=\"1\" class=\"dataframe\">\n  <thead>\n    <tr style=\"text-align: right;\">\n      <th></th>\n      <th>index</th>\n      <th>ORDERDATEYEARMONTH</th>\n      <th>SALES</th>\n    </tr>\n  </thead>\n  <tbody>\n    <tr>\n      <th>0</th>\n      <td>0</td>\n      <td>2003-01</td>\n      <td>129753.60</td>\n    </tr>\n    <tr>\n      <th>3</th>\n      <td>3</td>\n      <td>2003-04</td>\n      <td>201609.55</td>\n    </tr>\n    <tr>\n      <th>4</th>\n      <td>4</td>\n      <td>2003-05</td>\n      <td>192673.11</td>\n    </tr>\n    <tr>\n      <th>5</th>\n      <td>5</td>\n      <td>2003-06</td>\n      <td>168082.56</td>\n    </tr>\n    <tr>\n      <th>6</th>\n      <td>6</td>\n      <td>2003-07</td>\n      <td>187731.88</td>\n    </tr>\n  </tbody>\n</table>\n</div>", 
                        "text/plain": "   index ORDERDATEYEARMONTH      SALES\n0      0            2003-01  129753.60\n3      3            2003-04  201609.55\n4      4            2003-05  192673.11\n5      5            2003-06  168082.56\n6      6            2003-07  187731.88"
                    }, 
                    "output_type": "execute_result"
                }
            ], 
            "source": "train.head()"
        }, 
        {
            "source": "#### Train data distribution", 
            "cell_type": "markdown", 
            "metadata": {
                "button": false, 
                "new_sheet": false, 
                "run_control": {
                    "read_only": false
                }
            }
        }, 
        {
            "execution_count": 148, 
            "cell_type": "code", 
            "metadata": {
                "button": false, 
                "new_sheet": false, 
                "run_control": {
                    "read_only": false
                }
            }, 
            "outputs": [
                {
                    "output_type": "display_data", 
                    "data": {
                        "image/png": "[encoded data removed]", 
                        "text/plain": "<Figure size 432x288 with 1 Axes>"
                    }, 
                    "metadata": {
                        "needs_background": "light"
                    }
                }
            ], 
            "source": "plt.scatter(train.index, train.SALES,  color='blue')\nplt.xlabel(\"Date\")\nplt.ylabel(\"Sales\")\nplt.show()"
        }, 
        {
            "source": "#### Modeling\nUsing sklearn package to model data.", 
            "cell_type": "markdown", 
            "metadata": {
                "button": false, 
                "new_sheet": false, 
                "run_control": {
                    "read_only": false
                }
            }
        }, 
        {
            "execution_count": 147, 
            "cell_type": "code", 
            "metadata": {
                "button": false, 
                "new_sheet": false, 
                "run_control": {
                    "read_only": false
                }
            }, 
            "outputs": [
                {
                    "output_type": "stream", 
                    "name": "stdout", 
                    "text": "Coefficients:  [[5881.93848475]]\nIntercept:  [250553.38384394]\n"
                }
            ], 
            "source": "from sklearn import linear_model\nregr = linear_model.LinearRegression()\ntrain_x = np.asanyarray(train[['index']])\ntrain_y = np.asanyarray(train[['SALES']])\nregr.fit (train_x, train_y)\n# The coefficients\nprint ('Coefficients: ', regr.coef_)\nprint ('Intercept: ',regr.intercept_)"
        }, 
        {
            "source": "As mentioned before, __Coefficient__ and __Intercept__ in the simple linear regression, are the parameters of the fit line. \nGiven that it is a simple linear regression, with only 2 parameters, and knowing that the parameters are the intercept and slope of the line, sklearn can estimate them directly from our data. \nNotice that all of the data must be available to traverse and calculate the parameters.\n", 
            "cell_type": "markdown", 
            "metadata": {}
        }, 
        {
            "source": "#### Plot outputs", 
            "cell_type": "markdown", 
            "metadata": {
                "button": false, 
                "new_sheet": false, 
                "run_control": {
                    "read_only": false
                }
            }
        }, 
        {
            "source": "we can plot the fit line over the data:", 
            "cell_type": "markdown", 
            "metadata": {}
        }, 
        {
            "execution_count": 150, 
            "cell_type": "code", 
            "metadata": {
                "button": false, 
                "new_sheet": false, 
                "run_control": {
                    "read_only": false
                }
            }, 
            "outputs": [
                {
                    "execution_count": 150, 
                    "metadata": {}, 
                    "data": {
                        "text/plain": "Text(0, 0.5, 'Sales')"
                    }, 
                    "output_type": "execute_result"
                }, 
                {
                    "output_type": "display_data", 
                    "data": {
                        "image/png": "[encoded data removed]", 
                        "text/plain": "<Figure size 432x288 with 1 Axes>"
                    }, 
                    "metadata": {
                        "needs_background": "light"
                    }
                }
            ], 
            "source": "plt.scatter(train.index, train.SALES,  color='blue')\nplt.plot(train_x, regr.coef_[0][0]*train_x + regr.intercept_[0], '-r')\nplt.xlabel(\"Date\")\nplt.ylabel(\"Sales\")"
        }, 
        {
            "source": "#### Evaluation\nwe compare the actual values and predicted values to calculate the accuracy of a regression model. Evaluation metrics provide a key role in the development of a model, as it provides insight to areas that require improvement.\n\nThere are different model evaluation metrics, lets use MSE here to calculate the accuracy of our model based on the test set: \n    - Mean absolute error: It is the mean of the absolute value of the errors. This is the easiest of the metrics to understand since it\u2019s just average error.\n    - Mean Squared Error (MSE): Mean Squared Error (MSE) is the mean of the squared error. It\u2019s more popular than Mean absolute error because the focus is geared more towards large errors. This is due to the squared term exponentially increasing larger errors in comparison to smaller ones.\n    - Root Mean Squared Error (RMSE).\n    - R-squared is not error, but is a popular metric for accuracy of your model. It represents how close the data are to the fitted regression line. The higher the R-squared, the better the model fits your data. Best possible score is 1.0 and it can be negative (because the model can be arbitrarily worse).\n", 
            "cell_type": "markdown", 
            "metadata": {
                "button": false, 
                "new_sheet": false, 
                "run_control": {
                    "read_only": false
                }
            }
        }, 
        {
            "execution_count": 154, 
            "cell_type": "code", 
            "metadata": {
                "scrolled": true, 
                "button": false, 
                "new_sheet": false, 
                "run_control": {
                    "read_only": false
                }
            }, 
            "outputs": [
                {
                    "output_type": "stream", 
                    "name": "stdout", 
                    "text": "Mean absolute error: 259917.57\nResidual sum of squares (MSE): 135014249658.52\nR2-score: -50.22\n"
                }
            ], 
            "source": "from sklearn.metrics import r2_score\n\ntest_x = np.asanyarray(test[['index']])\ntest_y = np.asanyarray(test[['SALES']])\ntest_y_ = regr.predict(test_x)\n\nprint(\"Mean absolute error: %.2f\" % np.mean(np.absolute(test_y_ - test_y)))\nprint(\"Residual sum of squares (MSE): %.2f\" % np.mean((test_y_ - test_y) ** 2))\nprint(\"R2-score: %.2f\" % r2_score(test_y_ , test_y) )"
        }
    ], 
    "metadata": {
        "kernelspec": {
            "display_name": "Python 3.6", 
            "name": "python3", 
            "language": "python"
        }, 
        "widgets": {
            "state": {}, 
            "version": "1.1.2"
        }, 
        "language_info": {
            "mimetype": "text/x-python", 
            "nbconvert_exporter": "python", 
            "version": "3.6.8", 
            "name": "python", 
            "file_extension": ".py", 
            "pygments_lexer": "ipython3", 
            "codemirror_mode": {
                "version": 3, 
                "name": "ipython"
            }
        }
    }, 
    "nbformat": 4
}